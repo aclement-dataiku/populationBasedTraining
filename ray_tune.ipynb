{
 "metadata": {
  "language_info": {
   "codemirror_mode": {
    "name": "ipython",
    "version": 3
   },
   "file_extension": ".py",
   "mimetype": "text/x-python",
   "name": "python",
   "nbconvert_exporter": "python",
   "pygments_lexer": "ipython3",
   "version": "3.7.6-final"
  },
  "orig_nbformat": 2,
  "kernelspec": {
   "name": "python3",
   "display_name": "Python 3.7.6 64-bit ('pbt')",
   "metadata": {
    "interpreter": {
     "hash": "ec5ba68ec718e9e4ee669959602a0353a6af89966bd0f0090d74b47bfbf3a129"
    }
   }
  }
 },
 "nbformat": 4,
 "nbformat_minor": 2,
 "cells": [
  {
   "cell_type": "code",
   "execution_count": 7,
   "metadata": {
    "tags": []
   },
   "outputs": [
    {
     "output_type": "stream",
     "name": "stderr",
     "text": [
      "2021-03-19 09:52:36,439\tWARNING worker.py:1107 -- Warning: The actor ImplicitFunc has size 85149662 when pickled. It will be stored in Redis, which could cause memory issues. This may mean that its definition uses a large array or other object.\n",
      "2021-03-19 09:52:36,517\tWARNING util.py:152 -- The `start_trial` operation took 0.630 s, which may be a performance bottleneck.\n"
     ]
    },
    {
     "output_type": "display_data",
     "data": {
      "text/plain": "<IPython.core.display.HTML object>",
      "text/html": "== Status ==<br>Memory usage on this node: 8.7/16.0 GiB<br>PopulationBasedTraining: 0 checkpoints, 0 perturbs<br>Resources requested: 4/8 CPUs, 0/0 GPUs, 0.0/6.2 GiB heap, 0.0/2.1 GiB objects<br>Result logdir: /Users/anitaclement/Documents/Projects/internal_projects/populationBasedTraining/logging/train_diabetes_2021-03-19_09-52-35<br>Number of trials: 1/3 (1 RUNNING)<br><table>\n<thead>\n<tr><th>Trial name                </th><th>status  </th><th>loc  </th><th style=\"text-align: right;\">  num_leaves</th><th style=\"text-align: right;\">  scale_pos_weight</th></tr>\n</thead>\n<tbody>\n<tr><td>train_diabetes_d4e8e_00000</td><td>RUNNING </td><td>     </td><td style=\"text-align: right;\">          33</td><td style=\"text-align: right;\">                 1</td></tr>\n</tbody>\n</table><br><br>"
     },
     "metadata": {}
    },
    {
     "output_type": "stream",
     "name": "stderr",
     "text": [
      "2021-03-19 09:52:37,525\tWARNING util.py:152 -- The `start_trial` operation took 0.520 s, which may be a performance bottleneck.\n",
      "\u001b[2m\u001b[36m(pid=22409)\u001b[0m /Users/anitaclement/Documents/Projects/internal_projects/populationBasedTraining/pbt/lib/python3.7/site-packages/lightgbm/basic.py:1286: UserWarning: Overriding the parameters from Reference Dataset.\n",
      "\u001b[2m\u001b[36m(pid=22409)\u001b[0m   warnings.warn('Overriding the parameters from Reference Dataset.')\n",
      "\u001b[2m\u001b[36m(pid=22409)\u001b[0m /Users/anitaclement/Documents/Projects/internal_projects/populationBasedTraining/pbt/lib/python3.7/site-packages/lightgbm/basic.py:1098: UserWarning: categorical_column in param dict is overridden.\n",
      "\u001b[2m\u001b[36m(pid=22409)\u001b[0m   warnings.warn('{} in param dict is overridden.'.format(cat_alias))\n",
      "Result for train_diabetes_d4e8e_00000:\n",
      "  binary_error: 0.21339121081745543\n",
      "  date: 2021-03-19_09-52-44\n",
      "  done: false\n",
      "  experiment_id: d8a25c00733c4a6da1bbe1a319290b61\n",
      "  hostname: MacBook-Pro-3\n",
      "  iterations_since_restore: 1\n",
      "  node_ip: 192.168.0.4\n",
      "  pid: 22409\n",
      "  time_since_restore: 7.334596157073975\n",
      "  time_this_iter_s: 7.334596157073975\n",
      "  time_total_s: 7.334596157073975\n",
      "  timestamp: 1616147564\n",
      "  timesteps_since_restore: 0\n",
      "  training_iteration: 1\n",
      "  trial_id: d4e8e_00000\n",
      "  \n",
      "\u001b[2m\u001b[36m(pid=22406)\u001b[0m /Users/anitaclement/Documents/Projects/internal_projects/populationBasedTraining/pbt/lib/python3.7/site-packages/lightgbm/basic.py:1286: UserWarning: Overriding the parameters from Reference Dataset.\n",
      "\u001b[2m\u001b[36m(pid=22406)\u001b[0m   warnings.warn('Overriding the parameters from Reference Dataset.')\n"
     ]
    },
    {
     "output_type": "display_data",
     "data": {
      "text/plain": "<IPython.core.display.HTML object>",
      "text/html": "== Status ==<br>Memory usage on this node: 9.4/16.0 GiB<br>PopulationBasedTraining: 0 checkpoints, 0 perturbs<br>Resources requested: 8/8 CPUs, 0/0 GPUs, 0.0/6.2 GiB heap, 0.0/2.1 GiB objects<br>Current best trial: d4e8e_00000 with binary_error=0.21339121081745543 and parameters={'objective': 'binary', 'metric': 'binary_error', 'verbose': -1, 'boosting_type': 'gbdt', 'num_leaves': 33, 'scale_pos_weight': 1, 'learning_rate': 0.01}<br>Result logdir: /Users/anitaclement/Documents/Projects/internal_projects/populationBasedTraining/logging/train_diabetes_2021-03-19_09-52-35<br>Number of trials: 3/3 (1 PENDING, 2 RUNNING)<br><table>\n<thead>\n<tr><th>Trial name                </th><th>status  </th><th>loc              </th><th style=\"text-align: right;\">  num_leaves</th><th style=\"text-align: right;\">  scale_pos_weight</th><th style=\"text-align: right;\">  iter</th><th style=\"text-align: right;\">  total time (s)</th><th style=\"text-align: right;\">  binary_error</th></tr>\n</thead>\n<tbody>\n<tr><td>train_diabetes_d4e8e_00000</td><td>RUNNING </td><td>192.168.0.4:22409</td><td style=\"text-align: right;\">          33</td><td style=\"text-align: right;\">                 1</td><td style=\"text-align: right;\">     1</td><td style=\"text-align: right;\">          7.3346</td><td style=\"text-align: right;\">      0.213391</td></tr>\n<tr><td>train_diabetes_d4e8e_00001</td><td>RUNNING </td><td>                 </td><td style=\"text-align: right;\">          17</td><td style=\"text-align: right;\">                 2</td><td style=\"text-align: right;\">      </td><td style=\"text-align: right;\">                </td><td style=\"text-align: right;\">              </td></tr>\n<tr><td>train_diabetes_d4e8e_00002</td><td>PENDING </td><td>                 </td><td style=\"text-align: right;\">          39</td><td style=\"text-align: right;\">                 3</td><td style=\"text-align: right;\">      </td><td style=\"text-align: right;\">                </td><td style=\"text-align: right;\">              </td></tr>\n</tbody>\n</table><br><br>"
     },
     "metadata": {}
    },
    {
     "output_type": "stream",
     "name": "stderr",
     "text": [
      "\u001b[2m\u001b[36m(pid=22406)\u001b[0m /Users/anitaclement/Documents/Projects/internal_projects/populationBasedTraining/pbt/lib/python3.7/site-packages/lightgbm/basic.py:1098: UserWarning: categorical_column in param dict is overridden.\n",
      "\u001b[2m\u001b[36m(pid=22406)\u001b[0m   warnings.warn('{} in param dict is overridden.'.format(cat_alias))\n",
      "Result for train_diabetes_d4e8e_00001:\n",
      "  binary_error: 0.213660110633067\n",
      "  date: 2021-03-19_09-52-45\n",
      "  done: false\n",
      "  experiment_id: e8a5a8a11c7847789552eb6fbb328b12\n",
      "  hostname: MacBook-Pro-3\n",
      "  iterations_since_restore: 1\n",
      "  node_ip: 192.168.0.4\n",
      "  pid: 22406\n",
      "  time_since_restore: 7.379410028457642\n",
      "  time_this_iter_s: 7.379410028457642\n",
      "  time_total_s: 7.379410028457642\n",
      "  timestamp: 1616147565\n",
      "  timesteps_since_restore: 0\n",
      "  training_iteration: 1\n",
      "  trial_id: d4e8e_00001\n",
      "  \n"
     ]
    },
    {
     "output_type": "display_data",
     "data": {
      "text/plain": "<IPython.core.display.HTML object>",
      "text/html": "== Status ==<br>Memory usage on this node: 9.3/16.0 GiB<br>PopulationBasedTraining: 0 checkpoints, 0 perturbs<br>Resources requested: 8/8 CPUs, 0/0 GPUs, 0.0/6.2 GiB heap, 0.0/2.1 GiB objects<br>Current best trial: d4e8e_00001 with binary_error=0.213660110633067 and parameters={'objective': 'binary', 'metric': 'binary_error', 'verbose': -1, 'boosting_type': 'gbdt', 'num_leaves': 17, 'scale_pos_weight': 2, 'learning_rate': 0.01}<br>Result logdir: /Users/anitaclement/Documents/Projects/internal_projects/populationBasedTraining/logging/train_diabetes_2021-03-19_09-52-35<br>Number of trials: 3/3 (1 PENDING, 2 RUNNING)<br><table>\n<thead>\n<tr><th>Trial name                </th><th>status  </th><th>loc              </th><th style=\"text-align: right;\">  num_leaves</th><th style=\"text-align: right;\">  scale_pos_weight</th><th style=\"text-align: right;\">  iter</th><th style=\"text-align: right;\">  total time (s)</th><th style=\"text-align: right;\">  binary_error</th></tr>\n</thead>\n<tbody>\n<tr><td>train_diabetes_d4e8e_00000</td><td>RUNNING </td><td>192.168.0.4:22409</td><td style=\"text-align: right;\">          33</td><td style=\"text-align: right;\">                 1</td><td style=\"text-align: right;\">    47</td><td style=\"text-align: right;\">         12.3296</td><td style=\"text-align: right;\">      0.213391</td></tr>\n<tr><td>train_diabetes_d4e8e_00001</td><td>RUNNING </td><td>192.168.0.4:22406</td><td style=\"text-align: right;\">          17</td><td style=\"text-align: right;\">                 2</td><td style=\"text-align: right;\">    50</td><td style=\"text-align: right;\">         11.4991</td><td style=\"text-align: right;\">      0.21366 </td></tr>\n<tr><td>train_diabetes_d4e8e_00002</td><td>PENDING </td><td>                 </td><td style=\"text-align: right;\">          39</td><td style=\"text-align: right;\">                 3</td><td style=\"text-align: right;\">      </td><td style=\"text-align: right;\">                </td><td style=\"text-align: right;\">              </td></tr>\n</tbody>\n</table><br><br>"
     },
     "metadata": {}
    },
    {
     "output_type": "stream",
     "name": "stdout",
     "text": [
      "Result for train_diabetes_d4e8e_00000:\n",
      "  binary_error: 0.21339121081745543\n",
      "  date: 2021-03-19_09-52-50\n",
      "  done: false\n",
      "  experiment_id: d8a25c00733c4a6da1bbe1a319290b61\n",
      "  hostname: MacBook-Pro-3\n",
      "  iterations_since_restore: 48\n",
      "  node_ip: 192.168.0.4\n",
      "  pid: 22409\n",
      "  time_since_restore: 12.438672065734863\n",
      "  time_this_iter_s: 0.1090538501739502\n",
      "  time_total_s: 12.438672065734863\n",
      "  timestamp: 1616147570\n",
      "  timesteps_since_restore: 0\n",
      "  training_iteration: 48\n",
      "  trial_id: d4e8e_00000\n",
      "  \n",
      "Result for train_diabetes_d4e8e_00001:\n",
      "  binary_error: 0.213660110633067\n",
      "  date: 2021-03-19_09-52-50\n",
      "  done: false\n",
      "  experiment_id: e8a5a8a11c7847789552eb6fbb328b12\n",
      "  hostname: MacBook-Pro-3\n",
      "  iterations_since_restore: 60\n",
      "  node_ip: 192.168.0.4\n",
      "  pid: 22406\n",
      "  time_since_restore: 12.419089794158936\n",
      "  time_this_iter_s: 0.08419299125671387\n",
      "  time_total_s: 12.419089794158936\n",
      "  timestamp: 1616147570\n",
      "  timesteps_since_restore: 0\n",
      "  training_iteration: 60\n",
      "  trial_id: d4e8e_00001\n",
      "  \n"
     ]
    },
    {
     "output_type": "display_data",
     "data": {
      "text/plain": "<IPython.core.display.HTML object>",
      "text/html": "== Status ==<br>Memory usage on this node: 8.9/16.0 GiB<br>PopulationBasedTraining: 0 checkpoints, 0 perturbs<br>Resources requested: 8/8 CPUs, 0/0 GPUs, 0.0/6.2 GiB heap, 0.0/2.1 GiB objects<br>Current best trial: d4e8e_00000 with binary_error=0.20540104486785496 and parameters={'objective': 'binary', 'metric': 'binary_error', 'verbose': -1, 'boosting_type': 'gbdt', 'num_leaves': 33, 'scale_pos_weight': 1, 'learning_rate': 0.01}<br>Result logdir: /Users/anitaclement/Documents/Projects/internal_projects/populationBasedTraining/logging/train_diabetes_2021-03-19_09-52-35<br>Number of trials: 3/3 (1 PENDING, 2 RUNNING)<br><table>\n<thead>\n<tr><th>Trial name                </th><th>status  </th><th>loc              </th><th style=\"text-align: right;\">  num_leaves</th><th style=\"text-align: right;\">  scale_pos_weight</th><th style=\"text-align: right;\">  iter</th><th style=\"text-align: right;\">  total time (s)</th><th style=\"text-align: right;\">  binary_error</th></tr>\n</thead>\n<tbody>\n<tr><td>train_diabetes_d4e8e_00000</td><td>RUNNING </td><td>192.168.0.4:22409</td><td style=\"text-align: right;\">          33</td><td style=\"text-align: right;\">                 1</td><td style=\"text-align: right;\">    93</td><td style=\"text-align: right;\">         17.4208</td><td style=\"text-align: right;\">      0.205401</td></tr>\n<tr><td>train_diabetes_d4e8e_00001</td><td>RUNNING </td><td>192.168.0.4:22406</td><td style=\"text-align: right;\">          17</td><td style=\"text-align: right;\">                 2</td><td style=\"text-align: right;\">   100</td><td style=\"text-align: right;\">         15.8359</td><td style=\"text-align: right;\">      0.180662</td></tr>\n<tr><td>train_diabetes_d4e8e_00002</td><td>PENDING </td><td>                 </td><td style=\"text-align: right;\">          39</td><td style=\"text-align: right;\">                 3</td><td style=\"text-align: right;\">      </td><td style=\"text-align: right;\">                </td><td style=\"text-align: right;\">              </td></tr>\n</tbody>\n</table><br><br>"
     },
     "metadata": {}
    },
    {
     "output_type": "stream",
     "name": "stdout",
     "text": [
      "Result for train_diabetes_d4e8e_00001:\n",
      "  binary_error: 0.6552603445074549\n",
      "  date: 2021-03-19_09-52-55\n",
      "  done: true\n",
      "  experiment_id: e8a5a8a11c7847789552eb6fbb328b12\n",
      "  hostname: MacBook-Pro-3\n",
      "  iterations_since_restore: 101\n",
      "  node_ip: 192.168.0.4\n",
      "  pid: 22406\n",
      "  time_since_restore: 16.569145917892456\n",
      "  time_this_iter_s: 0.7332251071929932\n",
      "  time_total_s: 16.569145917892456\n",
      "  timestamp: 1616147575\n",
      "  timesteps_since_restore: 0\n",
      "  training_iteration: 101\n",
      "  trial_id: d4e8e_00001\n",
      "  \n",
      "2021-03-19 09:52:55,792\tWARNING util.py:152 -- The `start_trial` operation took 0.696 s, which may be a performance bottleneck.\n",
      "Result for train_diabetes_d4e8e_00000:\n",
      "  binary_error: 0.20463275968039335\n",
      "  date: 2021-03-19_09-52-55\n",
      "  done: false\n",
      "  experiment_id: d8a25c00733c4a6da1bbe1a319290b61\n",
      "  hostname: MacBook-Pro-3\n",
      "  iterations_since_restore: 94\n",
      "  node_ip: 192.168.0.4\n",
      "  pid: 22409\n",
      "  time_since_restore: 17.540767192840576\n",
      "  time_this_iter_s: 0.11999821662902832\n",
      "  time_total_s: 17.540767192840576\n",
      "  timestamp: 1616147575\n",
      "  timesteps_since_restore: 0\n",
      "  training_iteration: 94\n",
      "  trial_id: d4e8e_00000\n",
      "  \n",
      "Result for train_diabetes_d4e8e_00000:\n",
      "  binary_error: 0.5478904632173429\n",
      "  date: 2021-03-19_09-52-57\n",
      "  done: true\n",
      "  experiment_id: d8a25c00733c4a6da1bbe1a319290b61\n",
      "  hostname: MacBook-Pro-3\n",
      "  iterations_since_restore: 101\n",
      "  node_ip: 192.168.0.4\n",
      "  pid: 22409\n",
      "  time_since_restore: 19.608121156692505\n",
      "  time_this_iter_s: 0.7618329524993896\n",
      "  time_total_s: 19.608121156692505\n",
      "  timestamp: 1616147577\n",
      "  timesteps_since_restore: 0\n",
      "  training_iteration: 101\n",
      "  trial_id: d4e8e_00000\n",
      "  \n",
      "\u001b[2m\u001b[36m(pid=22495)\u001b[0m /Users/anitaclement/Documents/Projects/internal_projects/populationBasedTraining/pbt/lib/python3.7/site-packages/lightgbm/basic.py:1286: UserWarning: Overriding the parameters from Reference Dataset.\n",
      "\u001b[2m\u001b[36m(pid=22495)\u001b[0m   warnings.warn('Overriding the parameters from Reference Dataset.')\n",
      "\u001b[2m\u001b[36m(pid=22495)\u001b[0m /Users/anitaclement/Documents/Projects/internal_projects/populationBasedTraining/pbt/lib/python3.7/site-packages/lightgbm/basic.py:1098: UserWarning: categorical_column in param dict is overridden.\n",
      "\u001b[2m\u001b[36m(pid=22495)\u001b[0m   warnings.warn('{} in param dict is overridden.'.format(cat_alias))\n",
      "Result for train_diabetes_d4e8e_00002:\n",
      "  binary_error: 0.2132759680393362\n",
      "  date: 2021-03-19_09-53-04\n",
      "  done: false\n",
      "  experiment_id: f0f633ddeb044f838a9d1798d4aa3acd\n",
      "  hostname: MacBook-Pro-3\n",
      "  iterations_since_restore: 1\n",
      "  node_ip: 192.168.0.4\n",
      "  pid: 22495\n",
      "  time_since_restore: 7.2856669425964355\n",
      "  time_this_iter_s: 7.2856669425964355\n",
      "  time_total_s: 7.2856669425964355\n",
      "  timestamp: 1616147584\n",
      "  timesteps_since_restore: 0\n",
      "  training_iteration: 1\n",
      "  trial_id: d4e8e_00002\n",
      "  \n"
     ]
    },
    {
     "output_type": "display_data",
     "data": {
      "text/plain": "<IPython.core.display.HTML object>",
      "text/html": "== Status ==<br>Memory usage on this node: 8.7/16.0 GiB<br>PopulationBasedTraining: 0 checkpoints, 0 perturbs<br>Resources requested: 4/8 CPUs, 0/0 GPUs, 0.0/6.2 GiB heap, 0.0/2.1 GiB objects<br>Current best trial: d4e8e_00001 with binary_error=0.6552603445074549 and parameters={'objective': 'binary', 'metric': 'binary_error', 'verbose': -1, 'boosting_type': 'gbdt', 'num_leaves': 17, 'scale_pos_weight': 2, 'learning_rate': 0.01}<br>Result logdir: /Users/anitaclement/Documents/Projects/internal_projects/populationBasedTraining/logging/train_diabetes_2021-03-19_09-52-35<br>Number of trials: 3/3 (1 RUNNING, 2 TERMINATED)<br><table>\n<thead>\n<tr><th>Trial name                </th><th>status    </th><th>loc              </th><th style=\"text-align: right;\">  num_leaves</th><th style=\"text-align: right;\">  scale_pos_weight</th><th style=\"text-align: right;\">  iter</th><th style=\"text-align: right;\">  total time (s)</th><th style=\"text-align: right;\">  binary_error</th></tr>\n</thead>\n<tbody>\n<tr><td>train_diabetes_d4e8e_00002</td><td>RUNNING   </td><td>192.168.0.4:22495</td><td style=\"text-align: right;\">          39</td><td style=\"text-align: right;\">                 3</td><td style=\"text-align: right;\">     1</td><td style=\"text-align: right;\">         7.28567</td><td style=\"text-align: right;\">      0.213276</td></tr>\n<tr><td>train_diabetes_d4e8e_00000</td><td>TERMINATED</td><td>                 </td><td style=\"text-align: right;\">          33</td><td style=\"text-align: right;\">                 1</td><td style=\"text-align: right;\">   101</td><td style=\"text-align: right;\">        19.6081 </td><td style=\"text-align: right;\">      0.54789 </td></tr>\n<tr><td>train_diabetes_d4e8e_00001</td><td>TERMINATED</td><td>                 </td><td style=\"text-align: right;\">          17</td><td style=\"text-align: right;\">                 2</td><td style=\"text-align: right;\">   101</td><td style=\"text-align: right;\">        16.5691 </td><td style=\"text-align: right;\">      0.65526 </td></tr>\n</tbody>\n</table><br><br>"
     },
     "metadata": {}
    },
    {
     "output_type": "stream",
     "name": "stdout",
     "text": [
      "Result for train_diabetes_d4e8e_00002:\n  binary_error: 0.2132759680393362\n  date: 2021-03-19_09-53-09\n  done: false\n  experiment_id: f0f633ddeb044f838a9d1798d4aa3acd\n  hostname: MacBook-Pro-3\n  iterations_since_restore: 43\n  node_ip: 192.168.0.4\n  pid: 22495\n  time_since_restore: 12.3503258228302\n  time_this_iter_s: 0.12150073051452637\n  time_total_s: 12.3503258228302\n  timestamp: 1616147589\n  timesteps_since_restore: 0\n  training_iteration: 43\n  trial_id: d4e8e_00002\n  \n"
     ]
    },
    {
     "output_type": "display_data",
     "data": {
      "text/plain": "<IPython.core.display.HTML object>",
      "text/html": "== Status ==<br>Memory usage on this node: 8.7/16.0 GiB<br>PopulationBasedTraining: 0 checkpoints, 0 perturbs<br>Resources requested: 4/8 CPUs, 0/0 GPUs, 0.0/6.2 GiB heap, 0.0/2.1 GiB objects<br>Current best trial: d4e8e_00001 with binary_error=0.6552603445074549 and parameters={'objective': 'binary', 'metric': 'binary_error', 'verbose': -1, 'boosting_type': 'gbdt', 'num_leaves': 17, 'scale_pos_weight': 2, 'learning_rate': 0.01}<br>Result logdir: /Users/anitaclement/Documents/Projects/internal_projects/populationBasedTraining/logging/train_diabetes_2021-03-19_09-52-35<br>Number of trials: 3/3 (1 RUNNING, 2 TERMINATED)<br><table>\n<thead>\n<tr><th>Trial name                </th><th>status    </th><th>loc              </th><th style=\"text-align: right;\">  num_leaves</th><th style=\"text-align: right;\">  scale_pos_weight</th><th style=\"text-align: right;\">  iter</th><th style=\"text-align: right;\">  total time (s)</th><th style=\"text-align: right;\">  binary_error</th></tr>\n</thead>\n<tbody>\n<tr><td>train_diabetes_d4e8e_00002</td><td>RUNNING   </td><td>192.168.0.4:22495</td><td style=\"text-align: right;\">          39</td><td style=\"text-align: right;\">                 3</td><td style=\"text-align: right;\">    43</td><td style=\"text-align: right;\">         12.3503</td><td style=\"text-align: right;\">      0.213276</td></tr>\n<tr><td>train_diabetes_d4e8e_00000</td><td>TERMINATED</td><td>                 </td><td style=\"text-align: right;\">          33</td><td style=\"text-align: right;\">                 1</td><td style=\"text-align: right;\">   101</td><td style=\"text-align: right;\">         19.6081</td><td style=\"text-align: right;\">      0.54789 </td></tr>\n<tr><td>train_diabetes_d4e8e_00001</td><td>TERMINATED</td><td>                 </td><td style=\"text-align: right;\">          17</td><td style=\"text-align: right;\">                 2</td><td style=\"text-align: right;\">   101</td><td style=\"text-align: right;\">         16.5691</td><td style=\"text-align: right;\">      0.65526 </td></tr>\n</tbody>\n</table><br><br>"
     },
     "metadata": {}
    },
    {
     "output_type": "stream",
     "name": "stdout",
     "text": [
      "Result for train_diabetes_d4e8e_00002:\n  binary_error: 0.17682083589428396\n  date: 2021-03-19_09-53-14\n  done: false\n  experiment_id: f0f633ddeb044f838a9d1798d4aa3acd\n  hostname: MacBook-Pro-3\n  iterations_since_restore: 85\n  node_ip: 192.168.0.4\n  pid: 22495\n  time_since_restore: 17.423748016357422\n  time_this_iter_s: 0.11935114860534668\n  time_total_s: 17.423748016357422\n  timestamp: 1616147594\n  timesteps_since_restore: 0\n  training_iteration: 85\n  trial_id: d4e8e_00002\n  \n"
     ]
    },
    {
     "output_type": "display_data",
     "data": {
      "text/plain": "<IPython.core.display.HTML object>",
      "text/html": "== Status ==<br>Memory usage on this node: 8.7/16.0 GiB<br>PopulationBasedTraining: 0 checkpoints, 0 perturbs<br>Resources requested: 4/8 CPUs, 0/0 GPUs, 0.0/6.2 GiB heap, 0.0/2.1 GiB objects<br>Current best trial: d4e8e_00001 with binary_error=0.6552603445074549 and parameters={'objective': 'binary', 'metric': 'binary_error', 'verbose': -1, 'boosting_type': 'gbdt', 'num_leaves': 17, 'scale_pos_weight': 2, 'learning_rate': 0.01}<br>Result logdir: /Users/anitaclement/Documents/Projects/internal_projects/populationBasedTraining/logging/train_diabetes_2021-03-19_09-52-35<br>Number of trials: 3/3 (1 RUNNING, 2 TERMINATED)<br><table>\n<thead>\n<tr><th>Trial name                </th><th>status    </th><th>loc              </th><th style=\"text-align: right;\">  num_leaves</th><th style=\"text-align: right;\">  scale_pos_weight</th><th style=\"text-align: right;\">  iter</th><th style=\"text-align: right;\">  total time (s)</th><th style=\"text-align: right;\">  binary_error</th></tr>\n</thead>\n<tbody>\n<tr><td>train_diabetes_d4e8e_00002</td><td>RUNNING   </td><td>192.168.0.4:22495</td><td style=\"text-align: right;\">          39</td><td style=\"text-align: right;\">                 3</td><td style=\"text-align: right;\">    85</td><td style=\"text-align: right;\">         17.4237</td><td style=\"text-align: right;\">      0.176821</td></tr>\n<tr><td>train_diabetes_d4e8e_00000</td><td>TERMINATED</td><td>                 </td><td style=\"text-align: right;\">          33</td><td style=\"text-align: right;\">                 1</td><td style=\"text-align: right;\">   101</td><td style=\"text-align: right;\">         19.6081</td><td style=\"text-align: right;\">      0.54789 </td></tr>\n<tr><td>train_diabetes_d4e8e_00001</td><td>TERMINATED</td><td>                 </td><td style=\"text-align: right;\">          17</td><td style=\"text-align: right;\">                 2</td><td style=\"text-align: right;\">   101</td><td style=\"text-align: right;\">         16.5691</td><td style=\"text-align: right;\">      0.65526 </td></tr>\n</tbody>\n</table><br><br>"
     },
     "metadata": {}
    },
    {
     "output_type": "stream",
     "name": "stdout",
     "text": [
      "Result for train_diabetes_d4e8e_00002:\n  binary_error: 0.7195581969335375\n  date: 2021-03-19_09-53-17\n  done: true\n  experiment_id: f0f633ddeb044f838a9d1798d4aa3acd\n  hostname: MacBook-Pro-3\n  iterations_since_restore: 101\n  node_ip: 192.168.0.4\n  pid: 22495\n  time_since_restore: 20.003094911575317\n  time_this_iter_s: 0.7850649356842041\n  time_total_s: 20.003094911575317\n  timestamp: 1616147597\n  timesteps_since_restore: 0\n  training_iteration: 101\n  trial_id: d4e8e_00002\n  \n"
     ]
    },
    {
     "output_type": "display_data",
     "data": {
      "text/plain": "<IPython.core.display.HTML object>",
      "text/html": "== Status ==<br>Memory usage on this node: 8.6/16.0 GiB<br>PopulationBasedTraining: 0 checkpoints, 0 perturbs<br>Resources requested: 0/8 CPUs, 0/0 GPUs, 0.0/6.2 GiB heap, 0.0/2.1 GiB objects<br>Current best trial: d4e8e_00002 with binary_error=0.7195581969335375 and parameters={'objective': 'binary', 'metric': 'binary_error', 'verbose': -1, 'boosting_type': 'gbdt', 'num_leaves': 39, 'scale_pos_weight': 3, 'learning_rate': 0.01}<br>Result logdir: /Users/anitaclement/Documents/Projects/internal_projects/populationBasedTraining/logging/train_diabetes_2021-03-19_09-52-35<br>Number of trials: 3/3 (3 TERMINATED)<br><table>\n<thead>\n<tr><th>Trial name                </th><th>status    </th><th>loc  </th><th style=\"text-align: right;\">  num_leaves</th><th style=\"text-align: right;\">  scale_pos_weight</th><th style=\"text-align: right;\">  iter</th><th style=\"text-align: right;\">  total time (s)</th><th style=\"text-align: right;\">  binary_error</th></tr>\n</thead>\n<tbody>\n<tr><td>train_diabetes_d4e8e_00000</td><td>TERMINATED</td><td>     </td><td style=\"text-align: right;\">          33</td><td style=\"text-align: right;\">                 1</td><td style=\"text-align: right;\">   101</td><td style=\"text-align: right;\">         19.6081</td><td style=\"text-align: right;\">      0.54789 </td></tr>\n<tr><td>train_diabetes_d4e8e_00001</td><td>TERMINATED</td><td>     </td><td style=\"text-align: right;\">          17</td><td style=\"text-align: right;\">                 2</td><td style=\"text-align: right;\">   101</td><td style=\"text-align: right;\">         16.5691</td><td style=\"text-align: right;\">      0.65526 </td></tr>\n<tr><td>train_diabetes_d4e8e_00002</td><td>TERMINATED</td><td>     </td><td style=\"text-align: right;\">          39</td><td style=\"text-align: right;\">                 3</td><td style=\"text-align: right;\">   101</td><td style=\"text-align: right;\">         20.0031</td><td style=\"text-align: right;\">      0.719558</td></tr>\n</tbody>\n</table><br><br>"
     },
     "metadata": {}
    },
    {
     "output_type": "stream",
     "name": "stderr",
     "text": [
      "2021-03-19 09:53:17,115\tINFO tune.py:450 -- Total run time: 42.23 seconds (41.77 seconds for the tuning loop).\n"
     ]
    }
   ],
   "source": [
    "import pandas as pd\n",
    "import numpy as np\n",
    "import sklearn.datasets\n",
    "import sklearn.metrics\n",
    "from sklearn.model_selection import train_test_split\n",
    "\n",
    "import lightgbm as lgb\n",
    "\n",
    "from ray import tune\n",
    "from ray.tune.schedulers import ASHAScheduler, PopulationBasedTraining\n",
    "\n",
    "train_processed_df = pd.read_pickle(\"inputs/train_processed.pkl\")\n",
    "\n",
    "def LightGBMCallback(env):\n",
    "    \"\"\"Assumes that `valid_0` is the target validation score.\"\"\"\n",
    "    _, metric, score, _ = env.evaluation_result_list[0]\n",
    "    tune.report(**{metric: score})\n",
    "\n",
    "\n",
    "def train_diabetes(config):\n",
    "    data = train_processed_df.drop('diabetes_mellitus', axis=1)\n",
    "    target = train_processed_df.diabetes_mellitus\n",
    "    #data, target = sklearn.datasets.load_breast_cancer(return_X_y=True)\n",
    "    train_x, test_x, train_y, test_y = train_test_split(\n",
    "        data, target, test_size=0.20)\n",
    "    train_set = lgb.Dataset(train_x, label=train_y)\n",
    "    test_set = lgb.Dataset(test_x, label=test_y)\n",
    "    gbm = lgb.train(\n",
    "        config,\n",
    "        train_set,\n",
    "        valid_sets=[test_set],\n",
    "        verbose_eval=False,\n",
    "        callbacks=[LightGBMCallback])\n",
    "    preds = gbm.predict(test_x)\n",
    "    pred_labels = np.rint(preds)\n",
    "    tune.report(\n",
    "        binary_error=sklearn.metrics.roc_auc_score(test_y, pred_labels),\n",
    "        done=True)\n",
    "\n",
    "\n",
    "config = {\n",
    "        \"objective\": \"binary\",\n",
    "        \"metric\": \"binary_error\",\n",
    "        \"verbose\": -1,\n",
    "        #\"boosting_type\": tune.grid_search([\"gbdt\", \"dart\"]),\n",
    "        \"boosting_type\": \"gbdt\",\n",
    "        \"num_leaves\": tune.randint(10, 40),\n",
    "        #'min_child_samples': tune.randint(100, 400),\n",
    "        #'min_child_weight': tune.grid_search([1e-7,1e-6,1e-5, 1e-4, 1e-3, 1e-2,1e-1]),\n",
    "        #'subsample': tune.uniform(0.4, 0.6),\n",
    "        #'colsample_bytree': tune.uniform(0.2, 0.6),\n",
    "        #'reg_alpha': tune.grid_search([0, 1, 2, 5, 7, 10, 50]),\n",
    "        #'reg_lambda': tune.grid_search([0, 1, 5, 10, 20, 50]),\n",
    "        'scale_pos_weight': tune.grid_search([1, 2, 3]),\n",
    "        \"learning_rate\": 0.01\n",
    "    }\n",
    "\n",
    "analysis = tune.run(\n",
    "        train_diabetes,\n",
    "        metric=\"binary_error\",\n",
    "        #mode=\"min\",\n",
    "        mode=\"max\",\n",
    "        resources_per_trial={\"cpu\": 4, \"gpu\": 0},\n",
    "        config=config,\n",
    "        num_samples=1,\n",
    "        #scheduler=ASHAScheduler())\n",
    "        scheduler=PopulationBasedTraining(),\n",
    "        local_dir=\"logging\")\n",
    "\n"
   ]
  },
  {
   "cell_type": "code",
   "execution_count": 8,
   "metadata": {},
   "outputs": [
    {
     "output_type": "stream",
     "name": "stdout",
     "text": [
      "Best hyperparameters found were:  {'objective': 'binary', 'metric': 'binary_error', 'verbose': -1, 'boosting_type': 'gbdt', 'num_leaves': 39, 'scale_pos_weight': 3, 'learning_rate': 0.01}\n"
     ]
    }
   ],
   "source": [
    "print(\"Best hyperparameters found were: \", analysis.best_config)"
   ]
  }
 ]
}